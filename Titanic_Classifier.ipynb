{
 "cells": [
  {
   "cell_type": "markdown",
   "metadata": {},
   "source": [
    "This kind of messy notebook is first try of epic ml data : The survivors of Titanic"
   ]
  },
  {
   "cell_type": "code",
   "execution_count": 2,
   "metadata": {
    "collapsed": false
   },
   "outputs": [
    {
     "name": "stdout",
     "output_type": "stream",
     "text": [
      "<class 'pandas.core.frame.DataFrame'>\n",
      "RangeIndex: 891 entries, 0 to 890\n",
      "Data columns (total 11 columns):\n",
      "survived    891 non-null int64\n",
      "pclass      891 non-null int64\n",
      "name        891 non-null object\n",
      "sex         891 non-null object\n",
      "age         714 non-null float64\n",
      "sibsp       891 non-null int64\n",
      "parch       891 non-null int64\n",
      "ticket      891 non-null object\n",
      "fare        891 non-null float64\n",
      "cabin       204 non-null object\n",
      "embarked    889 non-null object\n",
      "dtypes: float64(2), int64(4), object(5)\n",
      "memory usage: 76.6+ KB\n"
     ]
    }
   ],
   "source": [
    "%matplotlib inline\n",
    "import numpy as np \n",
    "import pandas as pd\n",
    "import seaborn as sns\n",
    "#sns.set(style=\"nogrid\")\n",
    "url = \"https://raw.github.com/mattdelhey/kaggle-titanic/master/Data/train.csv\"\n",
    "titanic = pd.read_csv(url)\n",
    "titanic.info()"
   ]
  },
  {
   "cell_type": "code",
   "execution_count": 17,
   "metadata": {
    "collapsed": false
   },
   "outputs": [],
   "source": [
    "titanic_train = titanic.copy()\n",
    "titanic_target = titanic_train.survived.values\n",
    "titanic_train = titanic_train.drop(['survived','cabin'],axis=1)\n",
    "titanic_train['class'] = titanic_train.pclass.map({1:'first',2:'second',3:'third'})\n",
    "titanic_train = titanic_train.drop(['pclass'],axis=1)\n",
    "titanic_train['alone'] = ~((titanic_train.sibsp + titanic_train.parch)).astype(bool)"
   ]
  },
  {
   "cell_type": "code",
   "execution_count": 18,
   "metadata": {
    "collapsed": false
   },
   "outputs": [],
   "source": [
    "def men_women_child(passenger):\n",
    "    sex, age = passenger\n",
    "    if age < 16:\n",
    "        return 'child'\n",
    "    else: return 'man' if sex=='male' else 'woman'\n",
    "titanic_train['who'] = titanic[['sex','age']].apply(men_women_child,axis=1)\n",
    "age_mean = titanic_train.groupby(['who']).age.mean().to_dict()\n",
    "titanic_train.loc[titanic_train.age.isnull(),'age'] = titanic_train.loc[titanic_train.age.isnull(),['age','who']].apply(lambda x: age_mean[x['who']],axis=1)"
   ]
  },
  {
   "cell_type": "code",
   "execution_count": 19,
   "metadata": {
    "collapsed": false
   },
   "outputs": [],
   "source": [
    "def substrings_in_string(big_string, substrings):\n",
    "    for substring in substrings:\n",
    "        if str.find(big_string, substring) != -1:\n",
    "            return substring\n",
    "    print (big_string)\n",
    "    return np.nan\n",
    "title_list=['Mrs', 'Mr', 'Master', 'Miss', 'Major', 'Rev',\n",
    "                    'Dr', 'Ms', 'Mlle','Col', 'Capt', 'Mme', 'Countess',\n",
    "                    'Don', 'Jonkheer']\n",
    "titanic_train['title']=titanic_train['name'].map(lambda x: substrings_in_string(x, title_list))\n",
    "def replace_titles(x):\n",
    "    title=x['title']\n",
    "    if title in ['Don', 'Major', 'Capt', 'Jonkheer', 'Rev', 'Col']:\n",
    "        return 'Mr'\n",
    "    elif title in ['Countess', 'Mme']:\n",
    "        return 'Mrs'\n",
    "    elif title in ['Mlle', 'Ms']:\n",
    "        return 'Miss'\n",
    "    elif title =='Dr':\n",
    "        if x['sex']=='Male':\n",
    "            return 'Mr'\n",
    "        else:\n",
    "            return 'Mrs'\n",
    "    else:\n",
    "        return title\n",
    "titanic_train['title']=titanic_train.apply(replace_titles, axis=1)"
   ]
  },
  {
   "cell_type": "code",
   "execution_count": 24,
   "metadata": {
    "collapsed": true
   },
   "outputs": [
    {
     "ename": "ValueError",
     "evalue": "labels ['name' 'sibsp' 'parch' 'ticket' 'who'] not contained in axis",
     "output_type": "error",
     "traceback": [
      "\u001b[0;31m---------------------------------------------------------------------------\u001b[0m",
      "\u001b[0;31mValueError\u001b[0m                                Traceback (most recent call last)",
      "\u001b[0;32m<ipython-input-24-b8e93a690b19>\u001b[0m in \u001b[0;36m<module>\u001b[0;34m()\u001b[0m\n\u001b[0;32m----> 1\u001b[0;31m \u001b[0mtitanic_train\u001b[0m \u001b[0;34m=\u001b[0m \u001b[0mtitanic_train\u001b[0m\u001b[0;34m.\u001b[0m\u001b[0mdrop\u001b[0m\u001b[0;34m(\u001b[0m\u001b[0;34m[\u001b[0m\u001b[0;34m'name'\u001b[0m\u001b[0;34m,\u001b[0m\u001b[0;34m'sibsp'\u001b[0m\u001b[0;34m,\u001b[0m\u001b[0;34m'parch'\u001b[0m\u001b[0;34m,\u001b[0m\u001b[0;34m'ticket'\u001b[0m\u001b[0;34m,\u001b[0m\u001b[0;34m'who'\u001b[0m\u001b[0;34m]\u001b[0m\u001b[0;34m,\u001b[0m\u001b[0maxis\u001b[0m\u001b[0;34m=\u001b[0m\u001b[0;36m1\u001b[0m\u001b[0;34m)\u001b[0m\u001b[0;34m\u001b[0m\u001b[0m\n\u001b[0m\u001b[1;32m      2\u001b[0m \u001b[0mtitanic_train\u001b[0m\u001b[0;34m.\u001b[0m\u001b[0mdescribe\u001b[0m\u001b[0;34m(\u001b[0m\u001b[0;34m)\u001b[0m\u001b[0;34m\u001b[0m\u001b[0m\n",
      "\u001b[0;32m~/Anaconda/anaconda/envs/ph2t/lib/python3.6/site-packages/pandas/core/generic.py\u001b[0m in \u001b[0;36mdrop\u001b[0;34m(self, labels, axis, index, columns, level, inplace, errors)\u001b[0m\n\u001b[1;32m   2528\u001b[0m         \u001b[0;32mfor\u001b[0m \u001b[0maxis\u001b[0m\u001b[0;34m,\u001b[0m \u001b[0mlabels\u001b[0m \u001b[0;32min\u001b[0m \u001b[0maxes\u001b[0m\u001b[0;34m.\u001b[0m\u001b[0mitems\u001b[0m\u001b[0;34m(\u001b[0m\u001b[0;34m)\u001b[0m\u001b[0;34m:\u001b[0m\u001b[0;34m\u001b[0m\u001b[0m\n\u001b[1;32m   2529\u001b[0m             \u001b[0;32mif\u001b[0m \u001b[0mlabels\u001b[0m \u001b[0;32mis\u001b[0m \u001b[0;32mnot\u001b[0m \u001b[0;32mNone\u001b[0m\u001b[0;34m:\u001b[0m\u001b[0;34m\u001b[0m\u001b[0m\n\u001b[0;32m-> 2530\u001b[0;31m                 \u001b[0mobj\u001b[0m \u001b[0;34m=\u001b[0m \u001b[0mobj\u001b[0m\u001b[0;34m.\u001b[0m\u001b[0m_drop_axis\u001b[0m\u001b[0;34m(\u001b[0m\u001b[0mlabels\u001b[0m\u001b[0;34m,\u001b[0m \u001b[0maxis\u001b[0m\u001b[0;34m,\u001b[0m \u001b[0mlevel\u001b[0m\u001b[0;34m=\u001b[0m\u001b[0mlevel\u001b[0m\u001b[0;34m,\u001b[0m \u001b[0merrors\u001b[0m\u001b[0;34m=\u001b[0m\u001b[0merrors\u001b[0m\u001b[0;34m)\u001b[0m\u001b[0;34m\u001b[0m\u001b[0m\n\u001b[0m\u001b[1;32m   2531\u001b[0m \u001b[0;34m\u001b[0m\u001b[0m\n\u001b[1;32m   2532\u001b[0m         \u001b[0;32mif\u001b[0m \u001b[0minplace\u001b[0m\u001b[0;34m:\u001b[0m\u001b[0;34m\u001b[0m\u001b[0m\n",
      "\u001b[0;32m~/Anaconda/anaconda/envs/ph2t/lib/python3.6/site-packages/pandas/core/generic.py\u001b[0m in \u001b[0;36m_drop_axis\u001b[0;34m(self, labels, axis, level, errors)\u001b[0m\n\u001b[1;32m   2560\u001b[0m                 \u001b[0mnew_axis\u001b[0m \u001b[0;34m=\u001b[0m \u001b[0maxis\u001b[0m\u001b[0;34m.\u001b[0m\u001b[0mdrop\u001b[0m\u001b[0;34m(\u001b[0m\u001b[0mlabels\u001b[0m\u001b[0;34m,\u001b[0m \u001b[0mlevel\u001b[0m\u001b[0;34m=\u001b[0m\u001b[0mlevel\u001b[0m\u001b[0;34m,\u001b[0m \u001b[0merrors\u001b[0m\u001b[0;34m=\u001b[0m\u001b[0merrors\u001b[0m\u001b[0;34m)\u001b[0m\u001b[0;34m\u001b[0m\u001b[0m\n\u001b[1;32m   2561\u001b[0m             \u001b[0;32melse\u001b[0m\u001b[0;34m:\u001b[0m\u001b[0;34m\u001b[0m\u001b[0m\n\u001b[0;32m-> 2562\u001b[0;31m                 \u001b[0mnew_axis\u001b[0m \u001b[0;34m=\u001b[0m \u001b[0maxis\u001b[0m\u001b[0;34m.\u001b[0m\u001b[0mdrop\u001b[0m\u001b[0;34m(\u001b[0m\u001b[0mlabels\u001b[0m\u001b[0;34m,\u001b[0m \u001b[0merrors\u001b[0m\u001b[0;34m=\u001b[0m\u001b[0merrors\u001b[0m\u001b[0;34m)\u001b[0m\u001b[0;34m\u001b[0m\u001b[0m\n\u001b[0m\u001b[1;32m   2563\u001b[0m             \u001b[0mdropped\u001b[0m \u001b[0;34m=\u001b[0m \u001b[0mself\u001b[0m\u001b[0;34m.\u001b[0m\u001b[0mreindex\u001b[0m\u001b[0;34m(\u001b[0m\u001b[0;34m**\u001b[0m\u001b[0;34m{\u001b[0m\u001b[0maxis_name\u001b[0m\u001b[0;34m:\u001b[0m \u001b[0mnew_axis\u001b[0m\u001b[0;34m}\u001b[0m\u001b[0;34m)\u001b[0m\u001b[0;34m\u001b[0m\u001b[0m\n\u001b[1;32m   2564\u001b[0m             \u001b[0;32mtry\u001b[0m\u001b[0;34m:\u001b[0m\u001b[0;34m\u001b[0m\u001b[0m\n",
      "\u001b[0;32m~/Anaconda/anaconda/envs/ph2t/lib/python3.6/site-packages/pandas/core/indexes/base.py\u001b[0m in \u001b[0;36mdrop\u001b[0;34m(self, labels, errors)\u001b[0m\n\u001b[1;32m   3739\u001b[0m             \u001b[0;32mif\u001b[0m \u001b[0merrors\u001b[0m \u001b[0;34m!=\u001b[0m \u001b[0;34m'ignore'\u001b[0m\u001b[0;34m:\u001b[0m\u001b[0;34m\u001b[0m\u001b[0m\n\u001b[1;32m   3740\u001b[0m                 raise ValueError('labels %s not contained in axis' %\n\u001b[0;32m-> 3741\u001b[0;31m                                  labels[mask])\n\u001b[0m\u001b[1;32m   3742\u001b[0m             \u001b[0mindexer\u001b[0m \u001b[0;34m=\u001b[0m \u001b[0mindexer\u001b[0m\u001b[0;34m[\u001b[0m\u001b[0;34m~\u001b[0m\u001b[0mmask\u001b[0m\u001b[0;34m]\u001b[0m\u001b[0;34m\u001b[0m\u001b[0m\n\u001b[1;32m   3743\u001b[0m         \u001b[0;32mreturn\u001b[0m \u001b[0mself\u001b[0m\u001b[0;34m.\u001b[0m\u001b[0mdelete\u001b[0m\u001b[0;34m(\u001b[0m\u001b[0mindexer\u001b[0m\u001b[0;34m)\u001b[0m\u001b[0;34m\u001b[0m\u001b[0m\n",
      "\u001b[0;31mValueError\u001b[0m: labels ['name' 'sibsp' 'parch' 'ticket' 'who'] not contained in axis"
     ]
    }
   ],
   "source": [
    "titanic_train = titanic_train.drop(['name','sibsp','parch','ticket','who'],axis=1)\n",
    "titanic_train.head()"
   ]
  },
  {
   "cell_type": "code",
   "execution_count": 25,
   "metadata": {
    "collapsed": false
   },
   "outputs": [
    {
     "data": {
      "text/html": [
       "<div>\n",
       "<style scoped>\n",
       "    .dataframe tbody tr th:only-of-type {\n",
       "        vertical-align: middle;\n",
       "    }\n",
       "\n",
       "    .dataframe tbody tr th {\n",
       "        vertical-align: top;\n",
       "    }\n",
       "\n",
       "    .dataframe thead th {\n",
       "        text-align: right;\n",
       "    }\n",
       "</style>\n",
       "<table border=\"1\" class=\"dataframe\">\n",
       "  <thead>\n",
       "    <tr style=\"text-align: right;\">\n",
       "      <th></th>\n",
       "      <th>age</th>\n",
       "      <th>fare</th>\n",
       "    </tr>\n",
       "  </thead>\n",
       "  <tbody>\n",
       "    <tr>\n",
       "      <th>count</th>\n",
       "      <td>891.000000</td>\n",
       "      <td>891.000000</td>\n",
       "    </tr>\n",
       "    <tr>\n",
       "      <th>mean</th>\n",
       "      <td>30.319458</td>\n",
       "      <td>32.204208</td>\n",
       "    </tr>\n",
       "    <tr>\n",
       "      <th>std</th>\n",
       "      <td>13.063839</td>\n",
       "      <td>49.693429</td>\n",
       "    </tr>\n",
       "    <tr>\n",
       "      <th>min</th>\n",
       "      <td>0.420000</td>\n",
       "      <td>0.000000</td>\n",
       "    </tr>\n",
       "    <tr>\n",
       "      <th>25%</th>\n",
       "      <td>22.000000</td>\n",
       "      <td>7.910400</td>\n",
       "    </tr>\n",
       "    <tr>\n",
       "      <th>50%</th>\n",
       "      <td>32.000000</td>\n",
       "      <td>14.454200</td>\n",
       "    </tr>\n",
       "    <tr>\n",
       "      <th>75%</th>\n",
       "      <td>35.000000</td>\n",
       "      <td>31.000000</td>\n",
       "    </tr>\n",
       "    <tr>\n",
       "      <th>max</th>\n",
       "      <td>80.000000</td>\n",
       "      <td>512.329200</td>\n",
       "    </tr>\n",
       "  </tbody>\n",
       "</table>\n",
       "</div>"
      ],
      "text/plain": [
       "              age        fare\n",
       "count  891.000000  891.000000\n",
       "mean    30.319458   32.204208\n",
       "std     13.063839   49.693429\n",
       "min      0.420000    0.000000\n",
       "25%     22.000000    7.910400\n",
       "50%     32.000000   14.454200\n",
       "75%     35.000000   31.000000\n",
       "max     80.000000  512.329200"
      ]
     },
     "execution_count": 25,
     "metadata": {},
     "output_type": "execute_result"
    }
   ],
   "source": [
    "titanic_train.describe()"
   ]
  },
  {
   "cell_type": "code",
   "execution_count": null,
   "metadata": {
    "collapsed": true
   },
   "outputs": [],
   "source": []
  },
  {
   "cell_type": "code",
   "execution_count": 32,
   "metadata": {
    "collapsed": false
   },
   "outputs": [
    {
     "data": {
      "text/plain": [
       "<matplotlib.axes._subplots.AxesSubplot at 0x10d201080>"
      ]
     },
     "execution_count": 32,
     "metadata": {},
     "output_type": "execute_result"
    },
    {
     "data": {
      "image/png": "[encoded data removed]",
      "text/plain": [
       "<matplotlib.figure.Figure at 0x10d1d9828>"
      ]
     },
     "metadata": {},
     "output_type": "display_data"
    }
   ],
   "source": [
    "sns.kdeplot(titanic_train.age)"
   ]
  },
  {
   "cell_type": "code",
   "execution_count": 94,
   "metadata": {
    "collapsed": false
   },
   "outputs": [],
   "source": [
    "class_dummy = pd.get_dummies(titanic_train['class'],prefix='class')\n",
    "title_dummy = pd.get_dummies(titanic_train['title'],prefix='title')\n",
    "embark_dummy = pd.get_dummies(titanic_train['embarked'],prefix='embark')"
   ]
  },
  {
   "cell_type": "code",
   "execution_count": 95,
   "metadata": {
    "collapsed": false
   },
   "outputs": [],
   "source": [
    "final = pd.concat([titanic_train,class_dummy,embark_dummy,title_dummy],axis=1)\n",
    "final['log_fare'] = titanic_train.fare.map(lambda x: np.log(x) if x!=0 else 0) \n",
    "final = final.drop(['sex','embarked','class','title','fare'],axis=1)"
   ]
  },
  {
   "cell_type": "code",
   "execution_count": 97,
   "metadata": {
    "collapsed": false
   },
   "outputs": [
    {
     "data": {
      "text/html": [
       "<div>\n",
       "<style scoped>\n",
       "    .dataframe tbody tr th:only-of-type {\n",
       "        vertical-align: middle;\n",
       "    }\n",
       "\n",
       "    .dataframe tbody tr th {\n",
       "        vertical-align: top;\n",
       "    }\n",
       "\n",
       "    .dataframe thead th {\n",
       "        text-align: right;\n",
       "    }\n",
       "</style>\n",
       "<table border=\"1\" class=\"dataframe\">\n",
       "  <thead>\n",
       "    <tr style=\"text-align: right;\">\n",
       "      <th></th>\n",
       "      <th>age</th>\n",
       "      <th>class_first</th>\n",
       "      <th>class_second</th>\n",
       "      <th>class_third</th>\n",
       "      <th>embark_C</th>\n",
       "      <th>embark_Q</th>\n",
       "      <th>embark_S</th>\n",
       "      <th>title_Master</th>\n",
       "      <th>title_Miss</th>\n",
       "      <th>title_Mr</th>\n",
       "      <th>title_Mrs</th>\n",
       "      <th>log_fare</th>\n",
       "    </tr>\n",
       "  </thead>\n",
       "  <tbody>\n",
       "    <tr>\n",
       "      <th>count</th>\n",
       "      <td>891.000000</td>\n",
       "      <td>891.000000</td>\n",
       "      <td>891.000000</td>\n",
       "      <td>891.000000</td>\n",
       "      <td>891.000000</td>\n",
       "      <td>891.000000</td>\n",
       "      <td>891.000000</td>\n",
       "      <td>891.000000</td>\n",
       "      <td>891.000000</td>\n",
       "      <td>891.000000</td>\n",
       "      <td>891.000000</td>\n",
       "      <td>891.000000</td>\n",
       "    </tr>\n",
       "    <tr>\n",
       "      <th>mean</th>\n",
       "      <td>30.319458</td>\n",
       "      <td>0.242424</td>\n",
       "      <td>0.206510</td>\n",
       "      <td>0.551066</td>\n",
       "      <td>0.188552</td>\n",
       "      <td>0.086420</td>\n",
       "      <td>0.722783</td>\n",
       "      <td>0.044893</td>\n",
       "      <td>0.204265</td>\n",
       "      <td>0.595960</td>\n",
       "      <td>0.154882</td>\n",
       "      <td>2.893846</td>\n",
       "    </tr>\n",
       "    <tr>\n",
       "      <th>std</th>\n",
       "      <td>13.063839</td>\n",
       "      <td>0.428790</td>\n",
       "      <td>0.405028</td>\n",
       "      <td>0.497665</td>\n",
       "      <td>0.391372</td>\n",
       "      <td>0.281141</td>\n",
       "      <td>0.447876</td>\n",
       "      <td>0.207186</td>\n",
       "      <td>0.403390</td>\n",
       "      <td>0.490981</td>\n",
       "      <td>0.361996</td>\n",
       "      <td>1.002899</td>\n",
       "    </tr>\n",
       "    <tr>\n",
       "      <th>min</th>\n",
       "      <td>0.420000</td>\n",
       "      <td>0.000000</td>\n",
       "      <td>0.000000</td>\n",
       "      <td>0.000000</td>\n",
       "      <td>0.000000</td>\n",
       "      <td>0.000000</td>\n",
       "      <td>0.000000</td>\n",
       "      <td>0.000000</td>\n",
       "      <td>0.000000</td>\n",
       "      <td>0.000000</td>\n",
       "      <td>0.000000</td>\n",
       "      <td>0.000000</td>\n",
       "    </tr>\n",
       "    <tr>\n",
       "      <th>25%</th>\n",
       "      <td>22.000000</td>\n",
       "      <td>0.000000</td>\n",
       "      <td>0.000000</td>\n",
       "      <td>0.000000</td>\n",
       "      <td>0.000000</td>\n",
       "      <td>0.000000</td>\n",
       "      <td>0.000000</td>\n",
       "      <td>0.000000</td>\n",
       "      <td>0.000000</td>\n",
       "      <td>0.000000</td>\n",
       "      <td>0.000000</td>\n",
       "      <td>2.068177</td>\n",
       "    </tr>\n",
       "    <tr>\n",
       "      <th>50%</th>\n",
       "      <td>32.000000</td>\n",
       "      <td>0.000000</td>\n",
       "      <td>0.000000</td>\n",
       "      <td>1.000000</td>\n",
       "      <td>0.000000</td>\n",
       "      <td>0.000000</td>\n",
       "      <td>1.000000</td>\n",
       "      <td>0.000000</td>\n",
       "      <td>0.000000</td>\n",
       "      <td>1.000000</td>\n",
       "      <td>0.000000</td>\n",
       "      <td>2.670985</td>\n",
       "    </tr>\n",
       "    <tr>\n",
       "      <th>75%</th>\n",
       "      <td>35.000000</td>\n",
       "      <td>0.000000</td>\n",
       "      <td>0.000000</td>\n",
       "      <td>1.000000</td>\n",
       "      <td>0.000000</td>\n",
       "      <td>0.000000</td>\n",
       "      <td>1.000000</td>\n",
       "      <td>0.000000</td>\n",
       "      <td>0.000000</td>\n",
       "      <td>1.000000</td>\n",
       "      <td>0.000000</td>\n",
       "      <td>3.433987</td>\n",
       "    </tr>\n",
       "    <tr>\n",
       "      <th>max</th>\n",
       "      <td>80.000000</td>\n",
       "      <td>1.000000</td>\n",
       "      <td>1.000000</td>\n",
       "      <td>1.000000</td>\n",
       "      <td>1.000000</td>\n",
       "      <td>1.000000</td>\n",
       "      <td>1.000000</td>\n",
       "      <td>1.000000</td>\n",
       "      <td>1.000000</td>\n",
       "      <td>1.000000</td>\n",
       "      <td>1.000000</td>\n",
       "      <td>6.238967</td>\n",
       "    </tr>\n",
       "  </tbody>\n",
       "</table>\n",
       "</div>"
      ],
      "text/plain": [
       "              age  class_first  class_second  class_third    embark_C  \\\n",
       "count  891.000000   891.000000    891.000000   891.000000  891.000000   \n",
       "mean    30.319458     0.242424      0.206510     0.551066    0.188552   \n",
       "std     13.063839     0.428790      0.405028     0.497665    0.391372   \n",
       "min      0.420000     0.000000      0.000000     0.000000    0.000000   \n",
       "25%     22.000000     0.000000      0.000000     0.000000    0.000000   \n",
       "50%     32.000000     0.000000      0.000000     1.000000    0.000000   \n",
       "75%     35.000000     0.000000      0.000000     1.000000    0.000000   \n",
       "max     80.000000     1.000000      1.000000     1.000000    1.000000   \n",
       "\n",
       "         embark_Q    embark_S  title_Master  title_Miss    title_Mr  \\\n",
       "count  891.000000  891.000000    891.000000  891.000000  891.000000   \n",
       "mean     0.086420    0.722783      0.044893    0.204265    0.595960   \n",
       "std      0.281141    0.447876      0.207186    0.403390    0.490981   \n",
       "min      0.000000    0.000000      0.000000    0.000000    0.000000   \n",
       "25%      0.000000    0.000000      0.000000    0.000000    0.000000   \n",
       "50%      0.000000    1.000000      0.000000    0.000000    1.000000   \n",
       "75%      0.000000    1.000000      0.000000    0.000000    1.000000   \n",
       "max      1.000000    1.000000      1.000000    1.000000    1.000000   \n",
       "\n",
       "        title_Mrs    log_fare  \n",
       "count  891.000000  891.000000  \n",
       "mean     0.154882    2.893846  \n",
       "std      0.361996    1.002899  \n",
       "min      0.000000    0.000000  \n",
       "25%      0.000000    2.068177  \n",
       "50%      0.000000    2.670985  \n",
       "75%      0.000000    3.433987  \n",
       "max      1.000000    6.238967  "
      ]
     },
     "execution_count": 97,
     "metadata": {},
     "output_type": "execute_result"
    }
   ],
   "source": [
    "final.describe()"
   ]
  },
  {
   "cell_type": "code",
   "execution_count": 146,
   "metadata": {
    "collapsed": false
   },
   "outputs": [
    {
     "name": "stderr",
     "output_type": "stream",
     "text": [
      "/Users/yhhsu/Anaconda/anaconda/envs/ph2t/lib/python3.6/site-packages/sklearn/linear_model/stochastic_gradient.py:84: FutureWarning: max_iter and tol parameters have been added in <class 'sklearn.linear_model.stochastic_gradient.SGDClassifier'> in 0.19. If both are left unset, they default to max_iter=5 and tol=None. If tol is not None, max_iter defaults to max_iter=1000. From 0.21, default max_iter will be 1000, and default tol will be 1e-3.\n",
      "  \"and default tol will be 1e-3.\" % type(self), FutureWarning)\n"
     ]
    },
    {
     "data": {
      "text/plain": [
       "array([ 0.62289562,  0.64983165,  0.58922559])"
      ]
     },
     "execution_count": 146,
     "metadata": {},
     "output_type": "execute_result"
    }
   ],
   "source": [
    "from sklearn.linear_model import SGDClassifier\n",
    "from sklearn.tree import DecisionTreeClassifier\n",
    "from sklearn.ensemble import RandomForestClassifier\n",
    "from sklearn.model_selection import cross_val_score\n",
    "sgd = SGDClassifier()\n",
    "sgd.fit(final,titanic_target)\n",
    "cross_val_score(sgd,final,titanic_target,cv=3,scoring='accuracy')"
   ]
  },
  {
   "cell_type": "code",
   "execution_count": 147,
   "metadata": {
    "collapsed": false
   },
   "outputs": [
    {
     "data": {
      "text/plain": [
       "0.64870931537598209"
      ]
     },
     "execution_count": 147,
     "metadata": {},
     "output_type": "execute_result"
    }
   ],
   "source": [
    "sgd_pred = sgd.predict(final)\n",
    "(titanic_target==sgd_pred).mean()"
   ]
  },
  {
   "cell_type": "code",
   "execution_count": 152,
   "metadata": {
    "collapsed": false
   },
   "outputs": [
    {
     "data": {
      "text/plain": [
       "array([ 0.76094276,  0.77104377,  0.77777778])"
      ]
     },
     "execution_count": 152,
     "metadata": {},
     "output_type": "execute_result"
    }
   ],
   "source": [
    "tree = DecisionTreeClassifier()\n",
    "tree.fit(final,titanic_target)\n",
    "cross_val_score(tree,final,titanic_target,cv=3,scoring='accuracy')"
   ]
  },
  {
   "cell_type": "code",
   "execution_count": 151,
   "metadata": {
    "collapsed": false
   },
   "outputs": [
    {
     "data": {
      "text/plain": [
       "(891, 15)"
      ]
     },
     "execution_count": 151,
     "metadata": {},
     "output_type": "execute_result"
    }
   ],
   "source": [
    "final.shape"
   ]
  },
  {
   "cell_type": "code",
   "execution_count": 153,
   "metadata": {
    "collapsed": false
   },
   "outputs": [
    {
     "data": {
      "text/plain": [
       "0.98204264870931535"
      ]
     },
     "execution_count": 153,
     "metadata": {},
     "output_type": "execute_result"
    }
   ],
   "source": [
    "tree_pred = tree.predict(final)\n",
    "(titanic_target==tree_pred).mean()"
   ]
  },
  {
   "cell_type": "code",
   "execution_count": 154,
   "metadata": {
    "collapsed": false
   },
   "outputs": [
    {
     "data": {
      "text/plain": [
       "array([ 0.78451178,  0.81818182,  0.7979798 ])"
      ]
     },
     "execution_count": 154,
     "metadata": {},
     "output_type": "execute_result"
    }
   ],
   "source": [
    "rforest = RandomForestClassifier()\n",
    "rforest.fit(final,titanic_target)\n",
    "cross_val_score(rforest,final,titanic_target,cv=3,scoring='accuracy')"
   ]
  },
  {
   "cell_type": "code",
   "execution_count": 155,
   "metadata": {
    "collapsed": false
   },
   "outputs": [
    {
     "data": {
      "text/plain": [
       "0.96969696969696972"
      ]
     },
     "execution_count": 155,
     "metadata": {},
     "output_type": "execute_result"
    }
   ],
   "source": [
    "rforest_pred = rforest.predict(final)\n",
    "(titanic_target==rforest_pred).mean()"
   ]
  },
  {
   "cell_type": "code",
   "execution_count": 118,
   "metadata": {
    "collapsed": false
   },
   "outputs": [],
   "source": [
    "from sklearn.preprocessing import StandardScaler\n",
    "scaler = StandardScaler()\n",
    "n = len(final.log_fare)\n",
    "final['log_fare_rescale'] = scaler.fit_transform(final.log_fare.values.reshape(-1,1))\n",
    "final['age_rescale'] = scaler.fit_transform(final.age.values.reshape(-1,1))"
   ]
  },
  {
   "cell_type": "code",
   "execution_count": 120,
   "metadata": {
    "collapsed": false
   },
   "outputs": [],
   "source": [
    "final_rescale = final.copy()\n",
    "final_rescale = final_rescale.drop(['log_fare','age_rescale'],axis=1)"
   ]
  },
  {
   "cell_type": "code",
   "execution_count": 126,
   "metadata": {
    "collapsed": false
   },
   "outputs": [
    {
     "data": {
      "text/plain": [
       "array([ 0.71111111,  0.81111111,  0.71910112,  0.82022472,  0.86516854,\n",
       "        0.82022472,  0.82022472,  0.78651685,  0.78651685,  0.84090909])"
      ]
     },
     "execution_count": 126,
     "metadata": {},
     "output_type": "execute_result"
    }
   ],
   "source": [
    "rforest = RandomForestClassifier()\n",
    "rforest.fit(final_rescale,titanic_target)\n",
    "cross_val_score(rforest,final_rescale,titanic_target,cv=10,scoring='accuracy')"
   ]
  },
  {
   "cell_type": "code",
   "execution_count": 124,
   "metadata": {
    "collapsed": false
   },
   "outputs": [
    {
     "name": "stdout",
     "output_type": "stream",
     "text": [
      "[[538  11]\n",
      " [ 20 322]]\n",
      "0.966966966967\n",
      "0.941520467836\n",
      "0.954074074074\n"
     ]
    }
   ],
   "source": [
    "from sklearn.metrics import confusion_matrix, precision_score, recall_score, f1_score\n",
    "titanic_train_pred = rforest.predict(final_rescale)\n",
    "print (confusion_matrix(titanic_target,titanic_train_pred))\n",
    "print (precision_score(titanic_target,titanic_train_pred))\n",
    "print (recall_score(titanic_target,titanic_train_pred))\n",
    "print (f1_score(titanic_target,titanic_train_pred))"
   ]
  },
  {
   "cell_type": "code",
   "execution_count": 127,
   "metadata": {
    "collapsed": false
   },
   "outputs": [
    {
     "data": {
      "text/plain": [
       "0.38383838383838381"
      ]
     },
     "execution_count": 127,
     "metadata": {},
     "output_type": "execute_result"
    }
   ],
   "source": [
    "titanic_target.mean()"
   ]
  },
  {
   "cell_type": "code",
   "execution_count": 128,
   "metadata": {
    "collapsed": false
   },
   "outputs": [
    {
     "data": {
      "text/plain": [
       "RandomForestClassifier(bootstrap=True, class_weight=None, criterion='gini',\n",
       "            max_depth=None, max_features='auto', max_leaf_nodes=None,\n",
       "            min_impurity_decrease=0.0, min_impurity_split=None,\n",
       "            min_samples_leaf=1, min_samples_split=2,\n",
       "            min_weight_fraction_leaf=0.0, n_estimators=10, n_jobs=1,\n",
       "            oob_score=False, random_state=None, verbose=0,\n",
       "            warm_start=False)"
      ]
     },
     "execution_count": 128,
     "metadata": {},
     "output_type": "execute_result"
    }
   ],
   "source": [
    "rforest.fit(final_rescale,titanic_target)"
   ]
  },
  {
   "cell_type": "code",
   "execution_count": 132,
   "metadata": {
    "collapsed": false
   },
   "outputs": [
    {
     "name": "stdout",
     "output_type": "stream",
     "text": [
      "3.702467918395996\n"
     ]
    }
   ],
   "source": [
    "from sklearn.model_selection import GridSearchCV\n",
    "import time\n",
    "start = time.time()\n",
    "rforest2 = RandomForestClassifier()\n",
    "param_grid = [{\n",
    "        'n_estimators':[5,10,20], 'max_features':['sqrt','log2',None],\n",
    "        'min_impurity_decrease':[0,0.5],'class_weight':[None,'balanced']\n",
    "    }]\n",
    "grid_search = GridSearchCV(rforest2,param_grid,cv=5,scoring='accuracy')\n",
    "grid_search.fit(final_rescale,titanic_target)\n",
    "print (time.time()-start)"
   ]
  },
  {
   "cell_type": "code",
   "execution_count": 136,
   "metadata": {
    "collapsed": false
   },
   "outputs": [
    {
     "name": "stdout",
     "output_type": "stream",
     "text": [
      "0.789001122334 {'class_weight': None, 'max_features': 'sqrt', 'min_impurity_decrease': 0, 'n_estimators': 5}\n",
      "0.795735129068 {'class_weight': None, 'max_features': 'sqrt', 'min_impurity_decrease': 0, 'n_estimators': 10}\n",
      "0.812570145903 {'class_weight': None, 'max_features': 'sqrt', 'min_impurity_decrease': 0, 'n_estimators': 20}\n",
      "0.616161616162 {'class_weight': None, 'max_features': 'sqrt', 'min_impurity_decrease': 0.5, 'n_estimators': 5}\n",
      "0.616161616162 {'class_weight': None, 'max_features': 'sqrt', 'min_impurity_decrease': 0.5, 'n_estimators': 10}\n",
      "0.616161616162 {'class_weight': None, 'max_features': 'sqrt', 'min_impurity_decrease': 0.5, 'n_estimators': 20}\n",
      "0.791245791246 {'class_weight': None, 'max_features': 'log2', 'min_impurity_decrease': 0, 'n_estimators': 5}\n",
      "0.800224466891 {'class_weight': None, 'max_features': 'log2', 'min_impurity_decrease': 0, 'n_estimators': 10}\n",
      "0.804713804714 {'class_weight': None, 'max_features': 'log2', 'min_impurity_decrease': 0, 'n_estimators': 20}\n",
      "0.616161616162 {'class_weight': None, 'max_features': 'log2', 'min_impurity_decrease': 0.5, 'n_estimators': 5}\n",
      "0.616161616162 {'class_weight': None, 'max_features': 'log2', 'min_impurity_decrease': 0.5, 'n_estimators': 10}\n",
      "0.616161616162 {'class_weight': None, 'max_features': 'log2', 'min_impurity_decrease': 0.5, 'n_estimators': 20}\n",
      "0.795735129068 {'class_weight': None, 'max_features': None, 'min_impurity_decrease': 0, 'n_estimators': 5}\n",
      "0.810325476992 {'class_weight': None, 'max_features': None, 'min_impurity_decrease': 0, 'n_estimators': 10}\n",
      "0.804713804714 {'class_weight': None, 'max_features': None, 'min_impurity_decrease': 0, 'n_estimators': 20}\n",
      "0.616161616162 {'class_weight': None, 'max_features': None, 'min_impurity_decrease': 0.5, 'n_estimators': 5}\n",
      "0.616161616162 {'class_weight': None, 'max_features': None, 'min_impurity_decrease': 0.5, 'n_estimators': 10}\n",
      "0.616161616162 {'class_weight': None, 'max_features': None, 'min_impurity_decrease': 0.5, 'n_estimators': 20}\n",
      "0.792368125701 {'class_weight': 'balanced', 'max_features': 'sqrt', 'min_impurity_decrease': 0, 'n_estimators': 5}\n",
      "0.805836139169 {'class_weight': 'balanced', 'max_features': 'sqrt', 'min_impurity_decrease': 0, 'n_estimators': 10}\n",
      "0.799102132435 {'class_weight': 'balanced', 'max_features': 'sqrt', 'min_impurity_decrease': 0, 'n_estimators': 20}\n",
      "0.476992143659 {'class_weight': 'balanced', 'max_features': 'sqrt', 'min_impurity_decrease': 0.5, 'n_estimators': 5}\n",
      "0.570145903479 {'class_weight': 'balanced', 'max_features': 'sqrt', 'min_impurity_decrease': 0.5, 'n_estimators': 10}\n",
      "0.475869809203 {'class_weight': 'balanced', 'max_features': 'sqrt', 'min_impurity_decrease': 0.5, 'n_estimators': 20}\n",
      "0.793490460157 {'class_weight': 'balanced', 'max_features': 'log2', 'min_impurity_decrease': 0, 'n_estimators': 5}\n",
      "0.796857463524 {'class_weight': 'balanced', 'max_features': 'log2', 'min_impurity_decrease': 0, 'n_estimators': 10}\n",
      "0.79012345679 {'class_weight': 'balanced', 'max_features': 'log2', 'min_impurity_decrease': 0, 'n_estimators': 20}\n",
      "0.478114478114 {'class_weight': 'balanced', 'max_features': 'log2', 'min_impurity_decrease': 0.5, 'n_estimators': 5}\n",
      "0.570145903479 {'class_weight': 'balanced', 'max_features': 'log2', 'min_impurity_decrease': 0.5, 'n_estimators': 10}\n",
      "0.429854096521 {'class_weight': 'balanced', 'max_features': 'log2', 'min_impurity_decrease': 0.5, 'n_estimators': 20}\n",
      "0.795735129068 {'class_weight': 'balanced', 'max_features': None, 'min_impurity_decrease': 0, 'n_estimators': 5}\n",
      "0.792368125701 {'class_weight': 'balanced', 'max_features': None, 'min_impurity_decrease': 0, 'n_estimators': 10}\n",
      "0.805836139169 {'class_weight': 'balanced', 'max_features': None, 'min_impurity_decrease': 0, 'n_estimators': 20}\n",
      "0.524130190797 {'class_weight': 'balanced', 'max_features': None, 'min_impurity_decrease': 0.5, 'n_estimators': 5}\n",
      "0.523007856341 {'class_weight': 'balanced', 'max_features': None, 'min_impurity_decrease': 0.5, 'n_estimators': 10}\n",
      "0.523007856341 {'class_weight': 'balanced', 'max_features': None, 'min_impurity_decrease': 0.5, 'n_estimators': 20}\n"
     ]
    }
   ],
   "source": [
    "cvres = grid_search.cv_results_\n",
    "for mean_score, params in zip(cvres[\"mean_test_score\"], cvres[\"params\"]):\n",
    "    print(mean_score, params)"
   ]
  },
  {
   "cell_type": "code",
   "execution_count": 137,
   "metadata": {
    "collapsed": false
   },
   "outputs": [
    {
     "data": {
      "text/plain": [
       "[(0.29675133144458121, 'log_fare_rescale'),\n",
       " (0.23920901557845209, 'age'),\n",
       " (0.21002181436663186, 'title_Mr'),\n",
       " (0.049262802815155764, 'class_third'),\n",
       " (0.046249733822021397, 'title_Mrs'),\n",
       " (0.040877355218556226, 'title_Miss'),\n",
       " (0.028268959660315472, 'class_first'),\n",
       " (0.023788289951513598, 'class_second'),\n",
       " (0.021038157448809582, 'alone'),\n",
       " (0.013823373768217512, 'embark_S'),\n",
       " (0.011754363918732441, 'embark_C'),\n",
       " (0.010841346706903251, 'embark_Q'),\n",
       " (0.0081134553001095989, 'title_Master')]"
      ]
     },
     "execution_count": 137,
     "metadata": {},
     "output_type": "execute_result"
    }
   ],
   "source": [
    "feature_importances = grid_search.best_estimator_.feature_importances_\n",
    "attributes = final_rescale.columns\n",
    "sorted(zip(feature_importances, attributes), reverse=True)"
   ]
  },
  {
   "cell_type": "code",
   "execution_count": 156,
   "metadata": {
    "collapsed": false
   },
   "outputs": [
    {
     "data": {
      "text/plain": [
       "0.97643097643097643"
      ]
     },
     "execution_count": 156,
     "metadata": {},
     "output_type": "execute_result"
    }
   ],
   "source": [
    "train_pred = grid_search.best_estimator_.predict(final_rescale)\n",
    "(train_pred==titanic_target).mean()"
   ]
  },
  {
   "cell_type": "code",
   "execution_count": 158,
   "metadata": {
    "collapsed": false
   },
   "outputs": [],
   "source": [
    "def data_transform(titanic):\n",
    "    titanic_train = titanic.copy()\n",
    "    titanic_target = titanic_train.survived.values\n",
    "    titanic_train = titanic_train.drop(['survived','cabin'],axis=1)\n",
    "    titanic_train['class'] = titanic_train.pclass.map({1:'first',2:'second',3:'third'})\n",
    "    titanic_train = titanic_train.drop(['pclass'],axis=1)\n",
    "    titanic_train['alone'] = ~((titanic_train.sibsp + titanic_train.parch)).astype(bool)\n",
    "    def men_women_child(passenger):\n",
    "        sex, age = passenger\n",
    "        if age < 16:\n",
    "            return 'child'\n",
    "        else: return 'man' if sex=='male' else 'woman'\n",
    "    titanic_train['who'] = titanic[['sex','age']].apply(men_women_child,axis=1)\n",
    "    age_mean = titanic_train.groupby(['who']).age.mean().to_dict()\n",
    "    titanic_train.loc[titanic_train.age.isnull(),'age'] = titanic_train.loc[titanic_train.age.isnull(),['age','who']].apply(lambda x: age_mean[x['who']],axis=1)\n",
    "    def substrings_in_string(big_string, substrings):\n",
    "        for substring in substrings:\n",
    "            if str.find(big_string, substring) != -1:\n",
    "                return substring\n",
    "        return np.nan\n",
    "    title_list=['Mrs', 'Mr', 'Master', 'Miss', 'Major', 'Rev',\n",
    "                        'Dr', 'Ms', 'Mlle','Col', 'Capt', 'Mme', 'Countess',\n",
    "                        'Don', 'Jonkheer']\n",
    "    titanic_train['title']=titanic_train['name'].map(lambda x: substrings_in_string(x, title_list))\n",
    "    def replace_titles(x):\n",
    "        title=x['title']\n",
    "        if title in ['Don', 'Major', 'Capt', 'Jonkheer', 'Rev', 'Col']:\n",
    "            return 'Mr'\n",
    "        elif title in ['Countess', 'Mme']:\n",
    "            return 'Mrs'\n",
    "        elif title in ['Mlle', 'Ms']:\n",
    "            return 'Miss'\n",
    "        elif title =='Dr':\n",
    "            if x['sex']=='Male':\n",
    "                return 'Mr'\n",
    "            else:\n",
    "                return 'Mrs'\n",
    "        else:\n",
    "            return 'Other'\n",
    "    titanic_train['title']=titanic_train.apply(replace_titles, axis=1)\n",
    "    titanic_train = titanic_train.drop(['name','sibsp','parch','ticket','who'],axis=1)\n",
    "    class_dummy = pd.get_dummies(titanic_train['class'],prefix='class')\n",
    "    title_dummy = pd.get_dummies(titanic_train['title'],prefix='title')\n",
    "    embark_dummy = pd.get_dummies(titanic_train['embarked'],prefix='embark')\n",
    "    final = pd.concat([titanic_train,class_dummy,embark_dummy,title_dummy],axis=1)\n",
    "    final['log_fare'] = titanic_train.fare.map(lambda x: np.log(x) if x!=0 else 0) \n",
    "    final = final.drop(['sex','embarked','class','title','fare'],axis=1)\n",
    "    final['log_fare_rescale'] = scaler.fit_transform(final.log_fare.values.reshape(-1,1))\n",
    "    final['age_rescale'] = scaler.fit_transform(final.age.values.reshape(-1,1))\n",
    "    final = final.drop(['log_fare','age_rescale'],axis=1)\n",
    "    return final"
   ]
  },
  {
   "cell_type": "code",
   "execution_count": 162,
   "metadata": {
    "collapsed": false
   },
   "outputs": [],
   "source": [
    "test_train = data_transform(titanic)\n",
    "from sklearn.model_selection import train_test_split\n",
    "x_train,x_test,y_train,y_test = train_test_split(test_train,titanic_target,test_size=0.2)"
   ]
  },
  {
   "cell_type": "code",
   "execution_count": 167,
   "metadata": {
    "collapsed": false
   },
   "outputs": [
    {
     "data": {
      "text/plain": [
       "0.68156424581005581"
      ]
     },
     "execution_count": 167,
     "metadata": {},
     "output_type": "execute_result"
    }
   ],
   "source": [
    "tree = DecisionTreeClassifier()\n",
    "tree.fit(x_train,y_train)\n",
    "y_pred = tree.predict(x_test)\n",
    "(y_pred==y_test).mean()"
   ]
  },
  {
   "cell_type": "code",
   "execution_count": 168,
   "metadata": {
    "collapsed": false
   },
   "outputs": [
    {
     "data": {
      "text/plain": [
       "0.72625698324022347"
      ]
     },
     "execution_count": 168,
     "metadata": {},
     "output_type": "execute_result"
    }
   ],
   "source": [
    "rf = RandomForestClassifier()\n",
    "rf.fit(x_train,y_train)\n",
    "y_pred = rf.predict(x_test)\n",
    "(y_pred==y_test).mean()"
   ]
  },
  {
   "cell_type": "code",
   "execution_count": 169,
   "metadata": {
    "collapsed": false
   },
   "outputs": [
    {
     "name": "stdout",
     "output_type": "stream",
     "text": [
      "7.050845146179199\n"
     ]
    },
    {
     "data": {
      "text/plain": [
       "0.71508379888268159"
      ]
     },
     "execution_count": 169,
     "metadata": {},
     "output_type": "execute_result"
    }
   ],
   "source": [
    "start = time.time()\n",
    "rf2 = RandomForestClassifier()\n",
    "param_grid = [{\n",
    "        'n_estimators':[5,10,20,30], 'max_features':['sqrt','log2',None],\n",
    "        'class_weight':[None,'balanced']\n",
    "    }]\n",
    "grid_search = GridSearchCV(rf2,param_grid,cv=10,scoring='accuracy')\n",
    "grid_search.fit(x_train,y_train)\n",
    "print (time.time()-start)\n",
    "y_pred = grid_search.best_estimator_.predict(x_test)\n",
    "(y_test==y_pred).mean()"
   ]
  },
  {
   "cell_type": "code",
   "execution_count": 171,
   "metadata": {
    "collapsed": false
   },
   "outputs": [
    {
     "data": {
      "text/plain": [
       "[(0.41716137554019139, 'age'),\n",
       " (0.37481803647224216, 'log_fare_rescale'),\n",
       " (0.069484204733780308, 'class_third'),\n",
       " (0.041363429256770702, 'alone'),\n",
       " (0.023570450785082842, 'embark_C'),\n",
       " (0.020791669972592332, 'class_first'),\n",
       " (0.014227523564127565, 'embark_S'),\n",
       " (0.013597553909952745, 'class_second'),\n",
       " (0.0085708430859418854, 'embark_Q'),\n",
       " (0.007111581013607979, 'title_Mr'),\n",
       " (0.0067375302950997374, 'title_Other'),\n",
       " (0.0024051565571639897, 'title_Mrs'),\n",
       " (0.00016064481344633098, 'title_Miss')]"
      ]
     },
     "execution_count": 171,
     "metadata": {},
     "output_type": "execute_result"
    }
   ],
   "source": [
    "feature_importances = grid_search.best_estimator_.feature_importances_\n",
    "attributes = test_train.columns\n",
    "sorted(zip(feature_importances, attributes), reverse=True)"
   ]
  },
  {
   "cell_type": "code",
   "execution_count": 170,
   "metadata": {
    "collapsed": false
   },
   "outputs": [
    {
     "data": {
      "text/plain": [
       "array([ 0.68493151,  0.67605634,  0.69014085,  0.71830986,  0.67605634,\n",
       "        0.70422535,  0.67605634,  0.70422535,  0.6056338 ,  0.74647887])"
      ]
     },
     "execution_count": 170,
     "metadata": {},
     "output_type": "execute_result"
    }
   ],
   "source": [
    "cross_val_score(rf2,x_train,y_train,cv=10,scoring='accuracy')"
   ]
  }
 ],
 "metadata": {
  "anaconda-cloud": {},
  "kernelspec": {
   "display_name": "Python [conda env:ph2t]",
   "language": "python",
   "name": "conda-env-ph2t-py"
  },
  "language_info": {
   "codemirror_mode": {
    "name": "ipython",
    "version": 3
   },
   "file_extension": ".py",
   "mimetype": "text/x-python",
   "name": "python",
   "nbconvert_exporter": "python",
   "pygments_lexer": "ipython3",
   "version": "3.6.2"
  }
 },
 "nbformat": 4,
 "nbformat_minor": 1
}
